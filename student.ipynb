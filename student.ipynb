{
 "cells": [
  {
   "cell_type": "markdown",
   "id": "958758a7",
   "metadata": {},
   "source": [
    "# CAPSTONE PROJECT\n",
    "## GROUP TWARB\n",
    "### MEMBERS: Austin Kanja, Benson Ouma,  Rahab Gachie, Ted Ronoh & Winnie Odoyo\n",
    "### Title: IN VEHICLE COUPON RECOMMENDATION SYSTEM"
   ]
  },
  {
   "cell_type": "markdown",
   "id": "ba0aed18",
   "metadata": {
    "vscode": {
     "languageId": "plaintext"
    }
   },
   "source": [
    "The data set has been sourced from UC Irvine Machine Learning Repository https://archive.ics.uci.edu/datasets/\n",
    "The dataset contains 12,684 records and 26 features, including:\n",
    "- Demographic information: gender, age, marital Status, education, income\n",
    "- Contextual data: weather, temperature, time, destination, passanger\n",
    "- Behavioral indicators: frequency of visiting Bar, Coffee-house, Restaurant Less Than 20, etc.\n",
    "- Response variable: Y ()"
   ]
  },
  {
   "cell_type": "markdown",
   "id": "b798cee9",
   "metadata": {},
   "source": [
    "#### LOADING THE DATA\n",
    "Importing the libraries that will be used through out the project.\n"
   ]
  },
  {
   "cell_type": "code",
   "execution_count": 1,
   "id": "3f007fe3",
   "metadata": {},
   "outputs": [],
   "source": [
    "import pandas as pd   \n",
    "import numpy as np  \n",
    "import zipfile\n",
    "import matplotlib.pyplot as plt \n",
    "import seaborn as sns "
   ]
  },
  {
   "cell_type": "code",
   "execution_count": 2,
   "id": "946dd23d",
   "metadata": {},
   "outputs": [
    {
     "name": "stdout",
     "output_type": "stream",
     "text": [
      "Files extracted to unzipped/\n",
      "Files in the zip archive:\n",
      "in-vehicle-coupon-recommendation.csv\n"
     ]
    }
   ],
   "source": [
    "# extract the files\n",
    "zip_path = 'in+vehicle+coupon+recommendation.zip'\n",
    "\n",
    "extract_dir = 'unzipped/'\n",
    "\n",
    "with zipfile.ZipFile(zip_path, 'r') as zip_ref:\n",
    "    \n",
    "    zip_ref.extractall(extract_dir)\n",
    "    print(f\"Files extracted to {extract_dir}\")\n",
    "    \n",
    "    print(\"Files in the zip archive:\")\n",
    "    for file in zip_ref.namelist():\n",
    "        print(file)"
   ]
  },
  {
   "cell_type": "code",
   "execution_count": 3,
   "id": "17ea9368",
   "metadata": {},
   "outputs": [
    {
     "name": "stdout",
     "output_type": "stream",
     "text": [
      "<class 'pandas.core.frame.DataFrame'>\n",
      "RangeIndex: 12684 entries, 0 to 12683\n",
      "Data columns (total 26 columns):\n",
      " #   Column                Non-Null Count  Dtype \n",
      "---  ------                --------------  ----- \n",
      " 0   destination           12684 non-null  object\n",
      " 1   passanger             12684 non-null  object\n",
      " 2   weather               12684 non-null  object\n",
      " 3   temperature           12684 non-null  int64 \n",
      " 4   time                  12684 non-null  object\n",
      " 5   coupon                12684 non-null  object\n",
      " 6   expiration            12684 non-null  object\n",
      " 7   gender                12684 non-null  object\n",
      " 8   age                   12684 non-null  object\n",
      " 9   maritalStatus         12684 non-null  object\n",
      " 10  has_children          12684 non-null  int64 \n",
      " 11  education             12684 non-null  object\n",
      " 12  occupation            12684 non-null  object\n",
      " 13  income                12684 non-null  object\n",
      " 14  car                   108 non-null    object\n",
      " 15  Bar                   12577 non-null  object\n",
      " 16  CoffeeHouse           12467 non-null  object\n",
      " 17  CarryAway             12533 non-null  object\n",
      " 18  RestaurantLessThan20  12554 non-null  object\n",
      " 19  Restaurant20To50      12495 non-null  object\n",
      " 20  toCoupon_GEQ5min      12684 non-null  int64 \n",
      " 21  toCoupon_GEQ15min     12684 non-null  int64 \n",
      " 22  toCoupon_GEQ25min     12684 non-null  int64 \n",
      " 23  direction_same        12684 non-null  int64 \n",
      " 24  direction_opp         12684 non-null  int64 \n",
      " 25  Y                     12684 non-null  int64 \n",
      "dtypes: int64(8), object(18)\n",
      "memory usage: 2.5+ MB\n"
     ]
    },
    {
     "data": {
      "application/vnd.microsoft.datawrangler.viewer.v0+json": {
       "columns": [
        {
         "name": "index",
         "rawType": "int64",
         "type": "integer"
        },
        {
         "name": "destination",
         "rawType": "object",
         "type": "string"
        },
        {
         "name": "passanger",
         "rawType": "object",
         "type": "string"
        },
        {
         "name": "weather",
         "rawType": "object",
         "type": "string"
        },
        {
         "name": "temperature",
         "rawType": "int64",
         "type": "integer"
        },
        {
         "name": "time",
         "rawType": "object",
         "type": "string"
        },
        {
         "name": "coupon",
         "rawType": "object",
         "type": "string"
        },
        {
         "name": "expiration",
         "rawType": "object",
         "type": "string"
        },
        {
         "name": "gender",
         "rawType": "object",
         "type": "string"
        },
        {
         "name": "age",
         "rawType": "object",
         "type": "string"
        },
        {
         "name": "maritalStatus",
         "rawType": "object",
         "type": "string"
        },
        {
         "name": "has_children",
         "rawType": "int64",
         "type": "integer"
        },
        {
         "name": "education",
         "rawType": "object",
         "type": "string"
        },
        {
         "name": "occupation",
         "rawType": "object",
         "type": "string"
        },
        {
         "name": "income",
         "rawType": "object",
         "type": "string"
        },
        {
         "name": "car",
         "rawType": "object",
         "type": "unknown"
        },
        {
         "name": "Bar",
         "rawType": "object",
         "type": "string"
        },
        {
         "name": "CoffeeHouse",
         "rawType": "object",
         "type": "string"
        },
        {
         "name": "CarryAway",
         "rawType": "object",
         "type": "unknown"
        },
        {
         "name": "RestaurantLessThan20",
         "rawType": "object",
         "type": "string"
        },
        {
         "name": "Restaurant20To50",
         "rawType": "object",
         "type": "string"
        },
        {
         "name": "toCoupon_GEQ5min",
         "rawType": "int64",
         "type": "integer"
        },
        {
         "name": "toCoupon_GEQ15min",
         "rawType": "int64",
         "type": "integer"
        },
        {
         "name": "toCoupon_GEQ25min",
         "rawType": "int64",
         "type": "integer"
        },
        {
         "name": "direction_same",
         "rawType": "int64",
         "type": "integer"
        },
        {
         "name": "direction_opp",
         "rawType": "int64",
         "type": "integer"
        },
        {
         "name": "Y",
         "rawType": "int64",
         "type": "integer"
        }
       ],
       "ref": "dd7cb97b-ca42-45a8-8a77-719e4c3084db",
       "rows": [
        [
         "0",
         "No Urgent Place",
         "Alone",
         "Sunny",
         "55",
         "2PM",
         "Restaurant(<20)",
         "1d",
         "Female",
         "21",
         "Unmarried partner",
         "1",
         "Some college - no degree",
         "Unemployed",
         "$37500 - $49999",
         null,
         "never",
         "never",
         null,
         "4~8",
         "1~3",
         "1",
         "0",
         "0",
         "0",
         "1",
         "1"
        ],
        [
         "1",
         "No Urgent Place",
         "Friend(s)",
         "Sunny",
         "80",
         "10AM",
         "Coffee House",
         "2h",
         "Female",
         "21",
         "Unmarried partner",
         "1",
         "Some college - no degree",
         "Unemployed",
         "$37500 - $49999",
         null,
         "never",
         "never",
         null,
         "4~8",
         "1~3",
         "1",
         "0",
         "0",
         "0",
         "1",
         "0"
        ],
        [
         "2",
         "No Urgent Place",
         "Friend(s)",
         "Sunny",
         "80",
         "10AM",
         "Carry out & Take away",
         "2h",
         "Female",
         "21",
         "Unmarried partner",
         "1",
         "Some college - no degree",
         "Unemployed",
         "$37500 - $49999",
         null,
         "never",
         "never",
         null,
         "4~8",
         "1~3",
         "1",
         "1",
         "0",
         "0",
         "1",
         "1"
        ],
        [
         "3",
         "No Urgent Place",
         "Friend(s)",
         "Sunny",
         "80",
         "2PM",
         "Coffee House",
         "2h",
         "Female",
         "21",
         "Unmarried partner",
         "1",
         "Some college - no degree",
         "Unemployed",
         "$37500 - $49999",
         null,
         "never",
         "never",
         null,
         "4~8",
         "1~3",
         "1",
         "1",
         "0",
         "0",
         "1",
         "0"
        ],
        [
         "4",
         "No Urgent Place",
         "Friend(s)",
         "Sunny",
         "80",
         "2PM",
         "Coffee House",
         "1d",
         "Female",
         "21",
         "Unmarried partner",
         "1",
         "Some college - no degree",
         "Unemployed",
         "$37500 - $49999",
         null,
         "never",
         "never",
         null,
         "4~8",
         "1~3",
         "1",
         "1",
         "0",
         "0",
         "1",
         "0"
        ]
       ],
       "shape": {
        "columns": 26,
        "rows": 5
       }
      },
      "text/html": [
       "<div>\n",
       "<style scoped>\n",
       "    .dataframe tbody tr th:only-of-type {\n",
       "        vertical-align: middle;\n",
       "    }\n",
       "\n",
       "    .dataframe tbody tr th {\n",
       "        vertical-align: top;\n",
       "    }\n",
       "\n",
       "    .dataframe thead th {\n",
       "        text-align: right;\n",
       "    }\n",
       "</style>\n",
       "<table border=\"1\" class=\"dataframe\">\n",
       "  <thead>\n",
       "    <tr style=\"text-align: right;\">\n",
       "      <th></th>\n",
       "      <th>destination</th>\n",
       "      <th>passanger</th>\n",
       "      <th>weather</th>\n",
       "      <th>temperature</th>\n",
       "      <th>time</th>\n",
       "      <th>coupon</th>\n",
       "      <th>expiration</th>\n",
       "      <th>gender</th>\n",
       "      <th>age</th>\n",
       "      <th>maritalStatus</th>\n",
       "      <th>...</th>\n",
       "      <th>CoffeeHouse</th>\n",
       "      <th>CarryAway</th>\n",
       "      <th>RestaurantLessThan20</th>\n",
       "      <th>Restaurant20To50</th>\n",
       "      <th>toCoupon_GEQ5min</th>\n",
       "      <th>toCoupon_GEQ15min</th>\n",
       "      <th>toCoupon_GEQ25min</th>\n",
       "      <th>direction_same</th>\n",
       "      <th>direction_opp</th>\n",
       "      <th>Y</th>\n",
       "    </tr>\n",
       "  </thead>\n",
       "  <tbody>\n",
       "    <tr>\n",
       "      <th>0</th>\n",
       "      <td>No Urgent Place</td>\n",
       "      <td>Alone</td>\n",
       "      <td>Sunny</td>\n",
       "      <td>55</td>\n",
       "      <td>2PM</td>\n",
       "      <td>Restaurant(&lt;20)</td>\n",
       "      <td>1d</td>\n",
       "      <td>Female</td>\n",
       "      <td>21</td>\n",
       "      <td>Unmarried partner</td>\n",
       "      <td>...</td>\n",
       "      <td>never</td>\n",
       "      <td>NaN</td>\n",
       "      <td>4~8</td>\n",
       "      <td>1~3</td>\n",
       "      <td>1</td>\n",
       "      <td>0</td>\n",
       "      <td>0</td>\n",
       "      <td>0</td>\n",
       "      <td>1</td>\n",
       "      <td>1</td>\n",
       "    </tr>\n",
       "    <tr>\n",
       "      <th>1</th>\n",
       "      <td>No Urgent Place</td>\n",
       "      <td>Friend(s)</td>\n",
       "      <td>Sunny</td>\n",
       "      <td>80</td>\n",
       "      <td>10AM</td>\n",
       "      <td>Coffee House</td>\n",
       "      <td>2h</td>\n",
       "      <td>Female</td>\n",
       "      <td>21</td>\n",
       "      <td>Unmarried partner</td>\n",
       "      <td>...</td>\n",
       "      <td>never</td>\n",
       "      <td>NaN</td>\n",
       "      <td>4~8</td>\n",
       "      <td>1~3</td>\n",
       "      <td>1</td>\n",
       "      <td>0</td>\n",
       "      <td>0</td>\n",
       "      <td>0</td>\n",
       "      <td>1</td>\n",
       "      <td>0</td>\n",
       "    </tr>\n",
       "    <tr>\n",
       "      <th>2</th>\n",
       "      <td>No Urgent Place</td>\n",
       "      <td>Friend(s)</td>\n",
       "      <td>Sunny</td>\n",
       "      <td>80</td>\n",
       "      <td>10AM</td>\n",
       "      <td>Carry out &amp; Take away</td>\n",
       "      <td>2h</td>\n",
       "      <td>Female</td>\n",
       "      <td>21</td>\n",
       "      <td>Unmarried partner</td>\n",
       "      <td>...</td>\n",
       "      <td>never</td>\n",
       "      <td>NaN</td>\n",
       "      <td>4~8</td>\n",
       "      <td>1~3</td>\n",
       "      <td>1</td>\n",
       "      <td>1</td>\n",
       "      <td>0</td>\n",
       "      <td>0</td>\n",
       "      <td>1</td>\n",
       "      <td>1</td>\n",
       "    </tr>\n",
       "    <tr>\n",
       "      <th>3</th>\n",
       "      <td>No Urgent Place</td>\n",
       "      <td>Friend(s)</td>\n",
       "      <td>Sunny</td>\n",
       "      <td>80</td>\n",
       "      <td>2PM</td>\n",
       "      <td>Coffee House</td>\n",
       "      <td>2h</td>\n",
       "      <td>Female</td>\n",
       "      <td>21</td>\n",
       "      <td>Unmarried partner</td>\n",
       "      <td>...</td>\n",
       "      <td>never</td>\n",
       "      <td>NaN</td>\n",
       "      <td>4~8</td>\n",
       "      <td>1~3</td>\n",
       "      <td>1</td>\n",
       "      <td>1</td>\n",
       "      <td>0</td>\n",
       "      <td>0</td>\n",
       "      <td>1</td>\n",
       "      <td>0</td>\n",
       "    </tr>\n",
       "    <tr>\n",
       "      <th>4</th>\n",
       "      <td>No Urgent Place</td>\n",
       "      <td>Friend(s)</td>\n",
       "      <td>Sunny</td>\n",
       "      <td>80</td>\n",
       "      <td>2PM</td>\n",
       "      <td>Coffee House</td>\n",
       "      <td>1d</td>\n",
       "      <td>Female</td>\n",
       "      <td>21</td>\n",
       "      <td>Unmarried partner</td>\n",
       "      <td>...</td>\n",
       "      <td>never</td>\n",
       "      <td>NaN</td>\n",
       "      <td>4~8</td>\n",
       "      <td>1~3</td>\n",
       "      <td>1</td>\n",
       "      <td>1</td>\n",
       "      <td>0</td>\n",
       "      <td>0</td>\n",
       "      <td>1</td>\n",
       "      <td>0</td>\n",
       "    </tr>\n",
       "  </tbody>\n",
       "</table>\n",
       "<p>5 rows × 26 columns</p>\n",
       "</div>"
      ],
      "text/plain": [
       "       destination  passanger weather  temperature  time  \\\n",
       "0  No Urgent Place      Alone   Sunny           55   2PM   \n",
       "1  No Urgent Place  Friend(s)   Sunny           80  10AM   \n",
       "2  No Urgent Place  Friend(s)   Sunny           80  10AM   \n",
       "3  No Urgent Place  Friend(s)   Sunny           80   2PM   \n",
       "4  No Urgent Place  Friend(s)   Sunny           80   2PM   \n",
       "\n",
       "                  coupon expiration  gender age      maritalStatus  ...  \\\n",
       "0        Restaurant(<20)         1d  Female  21  Unmarried partner  ...   \n",
       "1           Coffee House         2h  Female  21  Unmarried partner  ...   \n",
       "2  Carry out & Take away         2h  Female  21  Unmarried partner  ...   \n",
       "3           Coffee House         2h  Female  21  Unmarried partner  ...   \n",
       "4           Coffee House         1d  Female  21  Unmarried partner  ...   \n",
       "\n",
       "   CoffeeHouse CarryAway RestaurantLessThan20 Restaurant20To50  \\\n",
       "0        never       NaN                  4~8              1~3   \n",
       "1        never       NaN                  4~8              1~3   \n",
       "2        never       NaN                  4~8              1~3   \n",
       "3        never       NaN                  4~8              1~3   \n",
       "4        never       NaN                  4~8              1~3   \n",
       "\n",
       "  toCoupon_GEQ5min toCoupon_GEQ15min toCoupon_GEQ25min direction_same  \\\n",
       "0                1                 0                 0              0   \n",
       "1                1                 0                 0              0   \n",
       "2                1                 1                 0              0   \n",
       "3                1                 1                 0              0   \n",
       "4                1                 1                 0              0   \n",
       "\n",
       "  direction_opp  Y  \n",
       "0             1  1  \n",
       "1             1  0  \n",
       "2             1  1  \n",
       "3             1  0  \n",
       "4             1  0  \n",
       "\n",
       "[5 rows x 26 columns]"
      ]
     },
     "execution_count": 3,
     "metadata": {},
     "output_type": "execute_result"
    }
   ],
   "source": [
    "# Load the dataset\n",
    "df = pd.read_csv('unzipped\\in-vehicle-coupon-recommendation.csv')\n",
    "df.info()\n",
    "df.head()"
   ]
  },
  {
   "cell_type": "markdown",
   "id": "7bfb91e5",
   "metadata": {},
   "source": [
    "##### Check for missing values"
   ]
  },
  {
   "cell_type": "code",
   "execution_count": 6,
   "id": "bdb22ba1",
   "metadata": {},
   "outputs": [
    {
     "data": {
      "image/png": "[encoded data removed]",
      "text/plain": [
       "<Figure size 1000x600 with 1 Axes>"
      ]
     },
     "metadata": {},
     "output_type": "display_data"
    }
   ],
   "source": [
    "# check for missing values\n",
    "df.isnull().sum()\n",
    "\n",
    "# visualize the missing values\n",
    "plt.figure(figsize=(10, 6))\n",
    "sns.heatmap(df.isnull(), cbar=False, cmap='viridis')\n",
    "plt.title('Missing Values Heatmap')\n",
    "plt.show()"
   ]
  },
  {
   "cell_type": "markdown",
   "id": "ed0cab54",
   "metadata": {},
   "source": [
    "From the above visualization, the car column has excessive missing values (99%). The ideal way of handling this is by dropping the column.\n",
    "##### Handling Missing Values"
   ]
  },
  {
   "cell_type": "code",
   "execution_count": 7,
   "id": "b5edef76",
   "metadata": {},
   "outputs": [
    {
     "name": "stdout",
     "output_type": "stream",
     "text": [
      "0\n"
     ]
    }
   ],
   "source": [
    "# drop car column\n",
    "df_cleaned = df.drop(columns=['car'])\n",
    "\n",
    "# For categorical columns with few missing values we fill with mode\n",
    "cat_cols = df_cleaned.select_dtypes(include=['object']).columns\n",
    "for col in cat_cols:\n",
    "    if df_cleaned[col].isnull().sum() > 0:\n",
    "        df_cleaned[col] = df_cleaned[col].fillna(df_cleaned[col].mode()[0])\n",
    "\n",
    "# For numerical columns we fill with median\n",
    "num_cols = df_cleaned.select_dtypes(include=['int64', 'float64']).columns\n",
    "for col in num_cols:\n",
    "    if df_cleaned[col].isnull().sum() > 0:\n",
    "        df_cleaned[col] = df_cleaned[col].fillna(df_cleaned[col].median())\n",
    "\n",
    "# Check if any missing values remain\n",
    "print(df_cleaned.isnull().sum().sum())"
   ]
  },
  {
   "cell_type": "code",
   "execution_count": 11,
   "id": "b6a804c1",
   "metadata": {},
   "outputs": [
    {
     "name": "stdout",
     "output_type": "stream",
     "text": [
      "Index(['temperature', 'has_children', 'toCoupon_GEQ5min', 'toCoupon_GEQ15min',\n",
      "       'toCoupon_GEQ25min', 'direction_same', 'direction_opp', 'Y'],\n",
      "      dtype='object')\n",
      "Index(['destination', 'passanger', 'weather', 'time', 'coupon', 'expiration',\n",
      "       'gender', 'age', 'maritalStatus', 'education', 'occupation', 'income',\n",
      "       'Bar', 'CoffeeHouse', 'CarryAway', 'RestaurantLessThan20',\n",
      "       'Restaurant20To50'],\n",
      "      dtype='object')\n"
     ]
    }
   ],
   "source": [
    "print(num_cols)\n",
    "print(cat_cols)"
   ]
  },
  {
   "cell_type": "markdown",
   "id": "5145cc04",
   "metadata": {},
   "source": [
    "##### Check for duplicate rows"
   ]
  },
  {
   "cell_type": "code",
   "execution_count": null,
   "id": "a6c7becc",
   "metadata": {},
   "outputs": [
    {
     "name": "stdout",
     "output_type": "stream",
     "text": [
      "Number of duplicate rows: 74\n"
     ]
    }
   ],
   "source": [
    "print(f\"Number of duplicate rows: {df_cleaned.duplicated().sum()}\")"
   ]
  },
  {
   "cell_type": "code",
   "execution_count": 17,
   "id": "24ea1bd9",
   "metadata": {},
   "outputs": [
    {
     "name": "stdout",
     "output_type": "stream",
     "text": [
      "✓ Removed 74 duplicate rows\n"
     ]
    }
   ],
   "source": [
    "# remove the duplicate rows\n",
    "initial_rows = len(df_cleaned)\n",
    "df_cleaned = df_cleaned.drop_duplicates()\n",
    "duplicates_removed = initial_rows - len(df_cleaned)\n",
    "print(f\"✓ Removed {duplicates_removed} duplicate rows\")\n"
   ]
  },
  {
   "cell_type": "markdown",
   "id": "05ebbc61",
   "metadata": {},
   "source": [
    "Correct the typo in 'passanger' to 'passenger'"
   ]
  },
  {
   "cell_type": "code",
   "execution_count": 18,
   "id": "60eee21f",
   "metadata": {},
   "outputs": [
    {
     "name": "stdout",
     "output_type": "stream",
     "text": [
      "✓ Fixed column name: 'passanger' → 'passenger'\n"
     ]
    }
   ],
   "source": [
    "df_cleaned = df_cleaned.rename(columns={'passanger': 'passenger'})\n",
    "print(\"✓ Fixed column name: 'passanger' → 'passenger'\")"
   ]
  },
  {
   "cell_type": "code",
   "execution_count": 19,
   "id": "2b247198",
   "metadata": {},
   "outputs": [
    {
     "name": "stdout",
     "output_type": "stream",
     "text": [
      "Standardizing age column:\n",
      "-------------------------\n",
      "Original age values: ['21' '46' '26' '31' '41' '50plus' '36' 'below21']\n",
      "New age groups: ['21-25' '46-50' '26-30' '31-35' '41-45' '50+' '36-40' '18-20']\n",
      "✓ Created standardized age_group column\n",
      "Current dataset shape: (12610, 26)\n",
      "Remaining missing values: 0\n"
     ]
    }
   ],
   "source": [
    "\n",
    "# Standardize age column (convert to consistent format)\n",
    "print(\"\\\n",
    "Standardizing age column:\")\n",
    "print(\"-\" * 25)\n",
    "print(\"Original age values:\", df_cleaned['age'].unique())\n",
    "\n",
    "# Create age mapping\n",
    "age_mapping = {\n",
    "    'below21': '18-20',\n",
    "    '21': '21-25', \n",
    "    '26': '26-30',\n",
    "    '31': '31-35',\n",
    "    '36': '36-40',\n",
    "    '41': '41-45',\n",
    "    '46': '46-50',\n",
    "    '50plus': '50+'\n",
    "}\n",
    "\n",
    "df_cleaned['age_group'] = df_cleaned['age'].map(age_mapping)\n",
    "print(\"New age groups:\", df_cleaned['age_group'].unique())\n",
    "print(\"✓ Created standardized age_group column\")\n",
    "\n",
    "print(f\"\\\n",
    "Current dataset shape: {df_cleaned.shape}\")\n",
    "print(f\"Remaining missing values: {df_cleaned.isnull().sum().sum()}\")"
   ]
  },
  {
   "cell_type": "markdown",
   "id": "a1bf7b06",
   "metadata": {},
   "source": [
    "##### Check for outliers in the columns"
   ]
  },
  {
   "cell_type": "code",
   "execution_count": 10,
   "id": "b10f686c",
   "metadata": {},
   "outputs": [
    {
     "data": {
      "image/png": "[encoded data removed]",
      "text/plain": [
       "<Figure size 1200x600 with 8 Axes>"
      ]
     },
     "metadata": {},
     "output_type": "display_data"
    },
    {
     "name": "stdout",
     "output_type": "stream",
     "text": [
      "Outliers in temperature: 0\n",
      "Outliers in has_children: 0\n",
      "Outliers in toCoupon_GEQ5min: 0\n",
      "Outliers in toCoupon_GEQ15min: 0\n",
      "Outliers in toCoupon_GEQ25min: 1511\n",
      "Outliers in direction_same: 2724\n",
      "Outliers in direction_opp: 2724\n",
      "Outliers in Y: 0\n"
     ]
    }
   ],
   "source": [
    "\n",
    "# Boxplots for numerical variables\n",
    "plt.figure(figsize=(12, 6))\n",
    "for i, col in enumerate(num_cols, 1):\n",
    "    plt.subplot(1, len(num_cols), i)\n",
    "    sns.boxplot(y=df_cleaned[col])\n",
    "    plt.title(col)\n",
    "plt.tight_layout()\n",
    "plt.show()\n",
    "\n",
    "# Statistical outlier detection\n",
    "for col in num_cols:\n",
    "    q1 = df_cleaned[col].quantile(0.25)\n",
    "    q3 = df_cleaned[col].quantile(0.75)\n",
    "    iqr = q3 - q1\n",
    "    lower_bound = q1 - 1.5 * iqr\n",
    "    upper_bound = q3 + 1.5 * iqr\n",
    "    \n",
    "    outliers = df_cleaned[(df_cleaned[col] < lower_bound) | (df_cleaned[col] > upper_bound)]\n",
    "    print(f\"Outliers in {col}: {len(outliers)}\")"
   ]
  },
  {
   "cell_type": "code",
   "execution_count": 12,
   "id": "a3ed9e17",
   "metadata": {},
   "outputs": [
    {
     "name": "stdout",
     "output_type": "stream",
     "text": [
      "\n",
      "Value counts for destination:\n",
      "destination\n",
      "No Urgent Place    0.495348\n",
      "Home               0.255203\n",
      "Work               0.249448\n",
      "Name: proportion, dtype: float64\n",
      "\n",
      "Value counts for passanger:\n",
      "passanger\n",
      "Alone        0.575922\n",
      "Friend(s)    0.260013\n",
      "Partner      0.084752\n",
      "Kid(s)       0.079313\n",
      "Name: proportion, dtype: float64\n",
      "\n",
      "Value counts for weather:\n",
      "weather\n",
      "Sunny    0.793835\n",
      "Snowy    0.110769\n",
      "Rainy    0.095396\n",
      "Name: proportion, dtype: float64\n",
      "\n",
      "Value counts for time:\n",
      "time\n",
      "6PM     0.254652\n",
      "7AM     0.249448\n",
      "10AM    0.179360\n",
      "2PM     0.158389\n",
      "10PM    0.158152\n",
      "Name: proportion, dtype: float64\n",
      "\n",
      "Value counts for coupon:\n",
      "coupon\n",
      "Coffee House             0.315043\n",
      "Restaurant(<20)          0.219647\n",
      "Carry out & Take away    0.188663\n",
      "Bar                      0.159019\n",
      "Restaurant(20-50)        0.117629\n",
      "Name: proportion, dtype: float64\n",
      "\n",
      "Value counts for expiration:\n",
      "expiration\n",
      "1d    0.559051\n",
      "2h    0.440949\n",
      "Name: proportion, dtype: float64\n",
      "\n",
      "Value counts for gender:\n",
      "gender\n",
      "Female    0.513324\n",
      "Male      0.486676\n",
      "Name: proportion, dtype: float64\n",
      "\n",
      "Value counts for age:\n",
      "age\n",
      "21         0.209161\n",
      "26         0.201750\n",
      "31         0.160754\n",
      "50plus     0.140965\n",
      "36         0.103989\n",
      "41         0.086172\n",
      "46         0.054084\n",
      "below21    0.043125\n",
      "Name: proportion, dtype: float64\n",
      "\n",
      "Value counts for maritalStatus:\n",
      "maritalStatus\n",
      "Married partner      0.402081\n",
      "Single               0.374645\n",
      "Unmarried partner    0.172343\n",
      "Divorced             0.040681\n",
      "Widowed              0.010249\n",
      "Name: proportion, dtype: float64\n",
      "\n",
      "Value counts for education:\n",
      "education\n",
      "Some college - no degree                  0.343031\n",
      "Bachelors degree                          0.341769\n",
      "Graduate degree (Masters or Doctorate)    0.146011\n",
      "Associates degree                         0.090902\n",
      "High School Graduate                      0.071350\n",
      "Some High School                          0.006938\n",
      "Name: proportion, dtype: float64\n",
      "Rare categories in education: ['Some High School']\n",
      "\n",
      "Value counts for occupation:\n",
      "occupation\n",
      "Unemployed                                   0.147430\n",
      "Student                                      0.124882\n",
      "Computer & Mathematical                      0.111006\n",
      "Sales & Related                              0.086172\n",
      "Education&Training&Library                   0.074346\n",
      "Management                                   0.066067\n",
      "Office & Administrative Support              0.050378\n",
      "Arts Design Entertainment Sports & Media     0.049590\n",
      "Business & Financial                         0.042889\n",
      "Retired                                      0.039026\n",
      "Food Preparation & Serving Related           0.023494\n",
      "Healthcare Practitioners & Technical         0.019237\n",
      "Healthcare Support                           0.019079\n",
      "Community & Social Services                  0.019000\n",
      "Legal                                        0.017266\n",
      "Transportation & Material Moving             0.017187\n",
      "Architecture & Engineering                   0.013797\n",
      "Personal Care & Service                      0.013797\n",
      "Protective Service                           0.013797\n",
      "Life Physical Social Science                 0.013403\n",
      "Construction & Extraction                    0.012141\n",
      "Installation Maintenance & Repair            0.010486\n",
      "Production Occupations                       0.008672\n",
      "Building & Grounds Cleaning & Maintenance    0.003469\n",
      "Farming Fishing & Forestry                   0.003390\n",
      "Name: proportion, dtype: float64\n",
      "Rare categories in occupation: ['Production Occupations', 'Building & Grounds Cleaning & Maintenance', 'Farming Fishing & Forestry']\n",
      "\n",
      "Value counts for income:\n",
      "income\n",
      "$25000 - $37499     0.158704\n",
      "$12500 - $24999     0.144355\n",
      "$37500 - $49999     0.142305\n",
      "$100000 or More     0.136865\n",
      "$50000 - $62499     0.130795\n",
      "Less than $12500    0.082151\n",
      "$87500 - $99999     0.070561\n",
      "$75000 - $87499     0.067565\n",
      "$62500 - $74999     0.066698\n",
      "Name: proportion, dtype: float64\n",
      "\n",
      "Value counts for Bar:\n",
      "Bar\n",
      "never    0.418165\n",
      "less1    0.274519\n",
      "1~3      0.194970\n",
      "4~8      0.084831\n",
      "gt8      0.027515\n",
      "Name: proportion, dtype: float64\n",
      "\n",
      "Value counts for CoffeeHouse:\n",
      "CoffeeHouse\n",
      "less1    0.283980\n",
      "1~3      0.254257\n",
      "never    0.233523\n",
      "4~8      0.140650\n",
      "gt8      0.087591\n",
      "Name: proportion, dtype: float64\n",
      "\n",
      "Value counts for CarryAway:\n",
      "CarryAway\n",
      "1~3      0.380243\n",
      "4~8      0.335699\n",
      "less1    0.146326\n",
      "gt8      0.125670\n",
      "never    0.012062\n",
      "Name: proportion, dtype: float64\n",
      "\n",
      "Value counts for RestaurantLessThan20:\n",
      "RestaurantLessThan20\n",
      "1~3      0.434090\n",
      "4~8      0.282245\n",
      "less1    0.165011\n",
      "gt8      0.101309\n",
      "never    0.017345\n",
      "Name: proportion, dtype: float64\n",
      "\n",
      "Value counts for Restaurant20To50:\n",
      "Restaurant20To50\n",
      "less1    0.494008\n",
      "1~3      0.259382\n",
      "never    0.168401\n",
      "4~8      0.057395\n",
      "gt8      0.020814\n",
      "Name: proportion, dtype: float64\n"
     ]
    }
   ],
   "source": [
    "# Check for unusual categories in categorical variables\n",
    "for col in cat_cols:\n",
    "    value_counts = df_cleaned[col].value_counts(normalize=True)\n",
    "    print(f\"\\nValue counts for {col}:\")\n",
    "    print(value_counts)\n",
    "    \n",
    "    # Identify rare categories (less than 1% of data)\n",
    "    rare_categories = value_counts[value_counts < 0.01].index\n",
    "    if len(rare_categories) > 0:\n",
    "        print(f\"Rare categories in {col}: {list(rare_categories)}\")"
   ]
  },
  {
   "cell_type": "code",
   "execution_count": 13,
   "id": "6bd72e91",
   "metadata": {},
   "outputs": [
    {
     "name": "stdout",
     "output_type": "stream",
     "text": [
      "Unique values in categorical columns:\n",
      "destination (3 unique values):\n",
      "['No Urgent Place' 'Home' 'Work']\n",
      "passanger (4 unique values):\n",
      "['Alone' 'Friend(s)' 'Kid(s)' 'Partner']\n",
      "weather (3 unique values):\n",
      "['Sunny' 'Rainy' 'Snowy']\n",
      "time (5 unique values):\n",
      "['2PM' '10AM' '6PM' '7AM' '10PM']\n",
      "coupon (5 unique values):\n",
      "['Restaurant(<20)' 'Coffee House' 'Carry out & Take away' 'Bar'\n",
      " 'Restaurant(20-50)']\n",
      "expiration (2 unique values):\n",
      "['1d' '2h']\n",
      "gender (2 unique values):\n",
      "['Female' 'Male']\n",
      "age (8 unique values):\n",
      "['21' '46' '26' '31' '41' '50plus' '36' 'below21']\n",
      "maritalStatus (5 unique values):\n",
      "['Unmarried partner' 'Single' 'Married partner' 'Divorced' 'Widowed']\n",
      "has_children (2 unique values):\n",
      "[1 0]\n",
      "education (6 unique values):\n",
      "['Some college - no degree' 'Bachelors degree' 'Associates degree'\n",
      " 'High School Graduate' 'Graduate degree (Masters or Doctorate)'\n",
      " 'Some High School']\n",
      "occupation (25 unique values):\n",
      "['Unemployed' 'Architecture & Engineering' 'Student'\n",
      " 'Education&Training&Library' 'Healthcare Support'\n",
      " 'Healthcare Practitioners & Technical' 'Sales & Related' 'Management'\n",
      " 'Arts Design Entertainment Sports & Media' 'Computer & Mathematical'\n",
      " 'Life Physical Social Science' 'Personal Care & Service'\n",
      " 'Community & Social Services' 'Office & Administrative Support'\n",
      " 'Construction & Extraction' 'Legal' 'Retired'\n",
      " 'Installation Maintenance & Repair' 'Transportation & Material Moving'\n",
      " 'Business & Financial' 'Protective Service'\n",
      " 'Food Preparation & Serving Related' 'Production Occupations'\n",
      " 'Building & Grounds Cleaning & Maintenance' 'Farming Fishing & Forestry']\n",
      "income (9 unique values):\n",
      "['$37500 - $49999' '$62500 - $74999' '$12500 - $24999' '$75000 - $87499'\n",
      " '$50000 - $62499' '$25000 - $37499' '$100000 or More' '$87500 - $99999'\n",
      " 'Less than $12500']\n"
     ]
    }
   ],
   "source": [
    "# Examine unique values in categorical columns\n",
    "categorical_cols = ['destination', 'passanger', 'weather', 'time', 'coupon', 'expiration', \n",
    "                   'gender', 'age', 'maritalStatus', 'has_children', 'education', 'occupation', \n",
    "                   'income', 'car']\n",
    "\n",
    "print(\"Unique values in categorical columns:\")\n",
    "for col in categorical_cols:\n",
    "    if col in df_cleaned.columns:\n",
    "        unique_vals = df_cleaned[col].unique()\n",
    "        print(f\"\\\n",
    "{col} ({len(unique_vals)} unique values):\")\n",
    "        print(unique_vals)"
   ]
  }
 ],
 "metadata": {
  "kernelspec": {
   "display_name": "tensor",
   "language": "python",
   "name": "python3"
  },
  "language_info": {
   "codemirror_mode": {
    "name": "ipython",
    "version": 3
   },
   "file_extension": ".py",
   "mimetype": "text/x-python",
   "name": "python",
   "nbconvert_exporter": "python",
   "pygments_lexer": "ipython3",
   "version": "3.11.13"
  }
 },
 "nbformat": 4,
 "nbformat_minor": 5
}
